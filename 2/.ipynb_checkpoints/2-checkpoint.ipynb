{
 "cells": [
  {
   "cell_type": "code",
   "execution_count": 1,
   "metadata": {},
   "outputs": [
    {
     "name": "stdout",
     "output_type": "stream",
     "text": [
      "24\n"
     ]
    }
   ],
   "source": [
    "## 10\n",
    "\n",
    "filename = \"./txtdata/hightemp.txt\"\n",
    "lines = 0\n",
    "\n",
    "with open(filename, 'r') as f:\n",
    "    for _ in f:\n",
    "        lines += 1\n",
    "        \n",
    "print(lines)"
   ]
  },
  {
   "cell_type": "code",
   "execution_count": 2,
   "metadata": {},
   "outputs": [
    {
     "name": "stdout",
     "output_type": "stream",
     "text": [
      "高知県 江川崎 41 2013-08-12\n",
      "埼玉県 熊谷 40.9 2007-08-16\n",
      "岐阜県 多治見 40.9 2007-08-16\n",
      "山形県 山形 40.8 1933-07-25\n",
      "山梨県 甲府 40.7 2013-08-10\n",
      "和歌山県 かつらぎ 40.6 1994-08-08\n",
      "静岡県 天竜 40.6 1994-08-04\n",
      "山梨県 勝沼 40.5 2013-08-10\n",
      "埼玉県 越谷 40.4 2007-08-16\n",
      "群馬県 館林 40.3 2007-08-16\n",
      "群馬県 上里見 40.3 1998-07-04\n",
      "愛知県 愛西 40.3 1994-08-05\n",
      "千葉県 牛久 40.2 2004-07-20\n",
      "静岡県 佐久間 40.2 2001-07-24\n",
      "愛媛県 宇和島 40.2 1927-07-22\n",
      "山形県 酒田 40.1 1978-08-03\n",
      "岐阜県 美濃 40 2007-08-16\n",
      "群馬県 前橋 40 2001-07-24\n",
      "千葉県 茂原 39.9 2013-08-11\n",
      "埼玉県 鳩山 39.9 1997-07-05\n",
      "大阪府 豊中 39.9 1994-08-08\n",
      "山梨県 大月 39.9 1990-07-19\n",
      "山形県 鶴岡 39.9 1978-08-03\n",
      "愛知県 名古屋 39.9 1942-08-02\n"
     ]
    }
   ],
   "source": [
    "## 11\n",
    "\n",
    "filename = \"./txtdata/hightemp.txt\"\n",
    "\n",
    "with open(filename, 'r') as f:\n",
    "    for line in f:\n",
    "        print(line.replace('\\t', ' '), end='')\n"
   ]
  },
  {
   "cell_type": "code",
   "execution_count": 3,
   "metadata": {},
   "outputs": [],
   "source": [
    "## 12\n",
    "\n",
    "filename = \"./txtdata/hightemp.txt\"\n",
    "col1_fn = \"./txtdata/col1.txt\"\n",
    "col2_fn = \"./txtdata/col2.txt\"\n",
    "\n",
    "with open(filename, 'r') as fin, open(col1_fn, 'w') as fout1, open(col2_fn, 'w') as fout2:\n",
    "    for line in fin:\n",
    "        col1 = line.split('\\t')[0]\n",
    "        col2 = line.split('\\t')[1]\n",
    "        fout1.write(col1 + '\\n')\n",
    "        fout2.write(col2 + '\\n')\n"
   ]
  },
  {
   "cell_type": "code",
   "execution_count": 4,
   "metadata": {},
   "outputs": [],
   "source": [
    "## 13\n",
    "\n",
    "filename = \"./txtdata/hightemp.txt\"\n",
    "merge_fn = \"./txtdata/merge.txt\"\n",
    "\n",
    "with open(col1_fn, 'r') as fin1, open(col2_fn, 'r') as fin2, open(merge_fn, 'w') as fout:\n",
    "    for col1, col2 in zip(fin1, fin2):\n",
    "        fout.write(col1.strip() + '\\t' + col2.strip() + '\\n')"
   ]
  },
  {
   "cell_type": "code",
   "execution_count": 5,
   "metadata": {},
   "outputs": [
    {
     "name": "stdout",
     "output_type": "stream",
     "text": [
      "5\n",
      "高知県\t江川崎\t41\t2013-08-12\n",
      "埼玉県\t熊谷\t40.9\t2007-08-16\n",
      "岐阜県\t多治見\t40.9\t2007-08-16\n",
      "山形県\t山形\t40.8\t1933-07-25\n",
      "山梨県\t甲府\t40.7\t2013-08-10\n"
     ]
    }
   ],
   "source": [
    "## 14\n",
    "\n",
    "filename = \"./txtdata/hightemp.txt\"\n",
    "\n",
    "N = int(input())\n",
    "cnt = 0\n",
    "\n",
    "with open(filename, 'r') as f:\n",
    "    for line in f:\n",
    "        print(line, end='')\n",
    "        cnt += 1\n",
    "        if cnt == N:\n",
    "            break"
   ]
  },
  {
   "cell_type": "code",
   "execution_count": 6,
   "metadata": {},
   "outputs": [
    {
     "name": "stdout",
     "output_type": "stream",
     "text": [
      "5\n",
      "埼玉県\t鳩山\t39.9\t1997-07-05\n",
      "大阪府\t豊中\t39.9\t1994-08-08\n",
      "山梨県\t大月\t39.9\t1990-07-19\n",
      "山形県\t鶴岡\t39.9\t1978-08-03\n",
      "愛知県\t名古屋\t39.9\t1942-08-02\n"
     ]
    }
   ],
   "source": [
    "## 15\n",
    "\n",
    "filename = \"./txtdata/hightemp.txt\"\n",
    "\n",
    "N = int(input())\n",
    "cnt = 0\n",
    "\n",
    "with open(filename, 'r') as f:\n",
    "    length = len(f.readlines())\n",
    "    f.seek(0)\n",
    "    for line in f:\n",
    "        if cnt >= 24 - N:\n",
    "            print(line, end='')\n",
    "        cnt += 1\n",
    "\n",
    "# 別解: readlines して後ろ N 行をスライスして取ってくる"
   ]
  },
  {
   "cell_type": "code",
   "execution_count": 7,
   "metadata": {},
   "outputs": [
    {
     "name": "stdout",
     "output_type": "stream",
     "text": [
      "5\n"
     ]
    }
   ],
   "source": [
    "## 16\n",
    "import math\n",
    "\n",
    "filename = \"./txtdata/hightemp.txt\"\n",
    "N = int(input())\n",
    "\n",
    "with open(filename, 'r') as fin:\n",
    "    lines = fin.readlines()\n",
    "\n",
    "unit = math.ceil(len(lines) / N)\n",
    "\n",
    "for i in range(N):\n",
    "    with open(\"./txtdata/split_{}\".format(chr(i+97)), 'w') as fout:\n",
    "        for line in lines[i*unit:(i+1)*unit]:\n",
    "            fout.write(line)"
   ]
  },
  {
   "cell_type": "code",
   "execution_count": 8,
   "metadata": {},
   "outputs": [
    {
     "name": "stdout",
     "output_type": "stream",
     "text": [
      "{'岐阜県', '愛媛県', '埼玉県', '千葉県', '大阪府', '高知県', '静岡県', '山梨県', '群馬県', '愛知県', '和歌山県', '山形県'}\n"
     ]
    }
   ],
   "source": [
    "## 17\n",
    "\n",
    "filename = \"./txtdata/hightemp.txt\"\n",
    "\n",
    "with open(filename, 'r') as fin:\n",
    "    lines = fin.readlines()\n",
    "    \n",
    "col1_set = {line.split('\\t')[0] for line in lines}\n",
    "\n",
    "print(col1_set)"
   ]
  },
  {
   "cell_type": "code",
   "execution_count": 9,
   "metadata": {},
   "outputs": [
    {
     "name": "stdout",
     "output_type": "stream",
     "text": [
      "高知県\t江川崎\t41\t2013-08-12\n",
      "埼玉県\t熊谷\t40.9\t2007-08-16\n",
      "岐阜県\t多治見\t40.9\t2007-08-16\n",
      "山形県\t山形\t40.8\t1933-07-25\n",
      "山梨県\t甲府\t40.7\t2013-08-10\n",
      "和歌山県\tかつらぎ\t40.6\t1994-08-08\n",
      "静岡県\t天竜\t40.6\t1994-08-04\n",
      "山梨県\t勝沼\t40.5\t2013-08-10\n",
      "埼玉県\t越谷\t40.4\t2007-08-16\n",
      "群馬県\t館林\t40.3\t2007-08-16\n",
      "群馬県\t上里見\t40.3\t1998-07-04\n",
      "愛知県\t愛西\t40.3\t1994-08-05\n",
      "千葉県\t牛久\t40.2\t2004-07-20\n",
      "静岡県\t佐久間\t40.2\t2001-07-24\n",
      "愛媛県\t宇和島\t40.2\t1927-07-22\n",
      "山形県\t酒田\t40.1\t1978-08-03\n",
      "岐阜県\t美濃\t40\t2007-08-16\n",
      "群馬県\t前橋\t40\t2001-07-24\n",
      "千葉県\t茂原\t39.9\t2013-08-11\n",
      "埼玉県\t鳩山\t39.9\t1997-07-05\n",
      "大阪府\t豊中\t39.9\t1994-08-08\n",
      "山梨県\t大月\t39.9\t1990-07-19\n",
      "山形県\t鶴岡\t39.9\t1978-08-03\n",
      "愛知県\t名古屋\t39.9\t1942-08-02\n"
     ]
    }
   ],
   "source": [
    "## 18\n",
    "\n",
    "filename = \"./txtdata/hightemp.txt\"\n",
    "\n",
    "with open(filename, 'r') as fin:\n",
    "    lines = fin.readlines()\n",
    "\n",
    "lines.sort(key=lambda line: line.split('\\t')[2], reverse=True)\n",
    "\n",
    "for line in lines:\n",
    "    print(line, end='')"
   ]
  },
  {
   "cell_type": "code",
   "execution_count": 29,
   "metadata": {},
   "outputs": [
    {
     "name": "stdout",
     "output_type": "stream",
     "text": [
      "埼玉県 3\n",
      "山形県 3\n",
      "山梨県 3\n",
      "群馬県 3\n",
      "岐阜県 2\n",
      "静岡県 2\n",
      "愛知県 2\n",
      "千葉県 2\n",
      "高知県 1\n",
      "和歌山県 1\n",
      "愛媛県 1\n",
      "大阪府 1\n"
     ]
    }
   ],
   "source": [
    "## 19\n",
    "from collections import Counter\n",
    "\n",
    "filename = \"./txtdata/hightemp.txt\"\n",
    "\n",
    "with open(filename, 'r') as f:\n",
    "    lines = f.readlines()\n",
    "\n",
    "col1_list = [line.split('\\t')[0] for line in lines]\n",
    "counter = Counter(col1_list)\n",
    "\n",
    "for k, v in sorted(counter.items(), key=lambda x: x[1], reverse=True):\n",
    "    print(k, v)"
   ]
  }
 ],
 "metadata": {
  "kernelspec": {
   "display_name": "Python 3",
   "language": "python",
   "name": "python3"
  },
  "language_info": {
   "codemirror_mode": {
    "name": "ipython",
    "version": 3
   },
   "file_extension": ".py",
   "mimetype": "text/x-python",
   "name": "python",
   "nbconvert_exporter": "python",
   "pygments_lexer": "ipython3",
   "version": "3.8.1"
  }
 },
 "nbformat": 4,
 "nbformat_minor": 4
}
