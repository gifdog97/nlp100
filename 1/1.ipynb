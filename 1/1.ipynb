{
 "cells": [
  {
   "cell_type": "code",
   "execution_count": 1,
   "metadata": {},
   "outputs": [
    {
     "name": "stdout",
     "output_type": "stream",
     "text": [
      "desserts\n"
     ]
    }
   ],
   "source": [
    "## 00\n",
    "\n",
    "w = \"stressed\"\n",
    "w_inv = w[::-1]\n",
    "print(w_inv)"
   ]
  },
  {
   "cell_type": "code",
   "execution_count": 2,
   "metadata": {},
   "outputs": [
    {
     "name": "stdout",
     "output_type": "stream",
     "text": [
      "タクシー\n"
     ]
    }
   ],
   "source": [
    "## 01\n",
    "\n",
    "w = \"パタトクカシーー\"\n",
    "w_odd = w[1::2]\n",
    "print(w_odd)"
   ]
  },
  {
   "cell_type": "code",
   "execution_count": 3,
   "metadata": {},
   "outputs": [
    {
     "name": "stdout",
     "output_type": "stream",
     "text": [
      "パタトクカシーー\n",
      "パタトクカシーー\n"
     ]
    }
   ],
   "source": [
    "## 02\n",
    "\n",
    "w1 = \"パトカー\"\n",
    "w2 = \"タクシー\"\n",
    "ans = \"\"\n",
    "for c1, c2 in zip(w1,w2):\n",
    "    ans += c1 + c2\n",
    "print(ans)\n",
    "\n",
    "# 内包表記による解法\n",
    "ans = \"\".join([c1 + c2 for c1, c2 in zip(w1,w2)])\n",
    "print(ans)"
   ]
  },
  {
   "cell_type": "code",
   "execution_count": 4,
   "metadata": {},
   "outputs": [
    {
     "name": "stdout",
     "output_type": "stream",
     "text": [
      "[3, 1, 4, 1, 5, 9, 2, 6, 5, 3, 5, 8, 9, 7, 9]\n"
     ]
    }
   ],
   "source": [
    "## 03\n",
    "\n",
    "s = \"Now I need a drink, alcoholic of course, after the heavy lectures involving quantum mechanics.\"\n",
    "w_list = s.split(' ')\n",
    "ans = []\n",
    "\n",
    "for w in w_list:\n",
    "    ans.append(len([c for c in w if c.isalpha()]))\n",
    "\n",
    "print(ans)"
   ]
  },
  {
   "cell_type": "code",
   "execution_count": 5,
   "metadata": {},
   "outputs": [
    {
     "name": "stdout",
     "output_type": "stream",
     "text": [
      "{'H': 1, 'He': 2, 'Li': 3, 'Be': 4, 'B': 5, 'C': 6, 'N': 7, 'O': 8, 'F': 9, 'Ne': 10, 'Na': 11, 'Mi': 12, 'Al': 13, 'Si': 14, 'P': 15, 'S': 16, 'Cl': 17, 'Ar': 18, 'K': 19, 'Ca': 20}\n"
     ]
    }
   ],
   "source": [
    "## 04\n",
    "\n",
    "s = \"Hi He Lied Because Boron Could Not Oxidize Fluorine. New Nations Might Also Sign Peace Security Clause. Arthur King Can.\"\n",
    "target = [1, 5, 6, 7, 8, 9, 15, 16, 19]\n",
    "\n",
    "w_list = s.split(' ')\n",
    "ans = {}\n",
    "for i, w in enumerate(w_list, 1):\n",
    "    if i in target:\n",
    "        name = w[:1]\n",
    "    else:\n",
    "        name = w[:2]\n",
    "    ans[name] = i\n",
    "\n",
    "print(ans)"
   ]
  },
  {
   "cell_type": "code",
   "execution_count": 6,
   "metadata": {},
   "outputs": [
    {
     "name": "stdout",
     "output_type": "stream",
     "text": [
      "['I ', ' a', 'am', 'm ', ' a', 'an', 'n ', ' N', 'NL', 'LP', 'Pe', 'er']\n",
      "[['I', 'am'], ['am', 'an'], ['an', 'NLPer']]\n"
     ]
    }
   ],
   "source": [
    "## 05\n",
    "\n",
    "def n_gram(seq, n):\n",
    "    ret = []\n",
    "    for i in range(len(seq) - n + 1):\n",
    "        ret.append(seq[i:i+n])\n",
    "    return ret\n",
    "        \n",
    "s = \"I am an NLPer\"\n",
    "w_list = s.split(' ')\n",
    "print(n_gram(s, 2))\n",
    "print(n_gram(w_list, 2))"
   ]
  },
  {
   "cell_type": "code",
   "execution_count": 7,
   "metadata": {},
   "outputs": [
    {
     "name": "stdout",
     "output_type": "stream",
     "text": [
      "X: {'ra', 'ad', 'se', 'is', 'pa', 'ap', 'di', 'ar'}\n",
      "Y: {'ra', 'gr', 'pa', 'ap', 'ag', 'ph', 'ar'}\n",
      "union:\n",
      " {'ra', 'gr', 'ad', 'se', 'is', 'pa', 'ap', 'di', 'ag', 'ph', 'ar'}\n",
      "intersection:\n",
      " {'ra', 'ap', 'ar', 'pa'}\n",
      "difference:\n",
      " {'ad', 'di', 'se', 'is'}\n",
      "'se' in X: True\n",
      "'se' in Y: False\n"
     ]
    }
   ],
   "source": [
    "## 06\n",
    "\n",
    "w1 = \"paraparaparadise\"\n",
    "w2 = \"paragraph\"\n",
    "\n",
    "bigram1 = n_gram(w1, 2)\n",
    "bigram2 = n_gram(w2, 2)\n",
    "\n",
    "X = set(bigram1)\n",
    "Y = set(bigram2)\n",
    "\n",
    "print(\"X:\", X)\n",
    "print(\"Y:\", Y)\n",
    "print(\"union:\\n\", X | Y)\n",
    "print(\"intersection:\\n\", X & Y)\n",
    "print(\"difference:\\n\", X - Y)\n",
    "print(\"'se' in X:\", \"se\" in X)\n",
    "print(\"'se' in Y:\", \"se\" in Y)"
   ]
  },
  {
   "cell_type": "code",
   "execution_count": 8,
   "metadata": {},
   "outputs": [
    {
     "name": "stdout",
     "output_type": "stream",
     "text": [
      "12時の気温は22.4\n"
     ]
    }
   ],
   "source": [
    "## 07\n",
    "\n",
    "def template(x, y, z):\n",
    "    return \"{}時の{}は{}\".format(x, y, z)\n",
    "\n",
    "print(template(12, \"気温\", 22.4))"
   ]
  },
  {
   "cell_type": "code",
   "execution_count": 9,
   "metadata": {},
   "outputs": [
    {
     "name": "stdout",
     "output_type": "stream",
     "text": [
      "I couldn't believe that I could actually understand what I was reading : the phenomenal power of the human mind .\n",
      "I xlfowm'g yvorvev gszg I xlfow zxgfzoob fmwvihgzmw dszg I dzh ivzwrmt : gsv ksvmlnvmzo kldvi lu gsv sfnzm nrmw .\n",
      "I couldn't believe that I could actually understand what I was reading : the phenomenal power of the human mind .\n",
      "OK.\n"
     ]
    }
   ],
   "source": [
    "## 08\n",
    "\n",
    "def cipher(seq):\n",
    "    ret = \"\"\n",
    "    for c in seq:\n",
    "        if c.islower():\n",
    "            ret += chr(219 - ord(c))    \n",
    "        else:\n",
    "            ret += c\n",
    "    return ret\n",
    "\n",
    "s = \"I couldn't believe that I could actually understand what I was reading : the phenomenal power of the human mind .\"\n",
    "\n",
    "s_encrypted = cipher(s)\n",
    "s_decrypted = cipher(s_encrypted)\n",
    "\n",
    "print(s)\n",
    "print(s_encrypted)\n",
    "print(s_decrypted)\n",
    "\n",
    "if s == s_decrypted:\n",
    "    print(\"OK.\")\n",
    "else:\n",
    "    print(\"NG.\")"
   ]
  },
  {
   "cell_type": "code",
   "execution_count": 10,
   "metadata": {},
   "outputs": [
    {
     "name": "stdout",
     "output_type": "stream",
     "text": [
      "I couldn't believe that I could actually understand what I was reading : the phenomenal power of the human mind .\n",
      "I clno'dut bievele that I cuold atlalcuy udtannesrd what I was radieng : the pnnehaeoml pwoer of the human mind .\n"
     ]
    }
   ],
   "source": [
    "## 09\n",
    "import random\n",
    "\n",
    "def shuffle(w):\n",
    "    if len(w) <= 4:\n",
    "        return w\n",
    "    else:\n",
    "        h, t = w[0], w[-1]\n",
    "        m = w[1:-1]\n",
    "        m_shuffled = random.sample(m, len(m))\n",
    "        return h + ''.join(m_shuffled) + t\n",
    "\n",
    "def typoglycemia(s):\n",
    "    ret = []\n",
    "    w_list = s.split(' ')\n",
    "    for w in w_list:\n",
    "        ret.append(shuffle(w))\n",
    "    return ' '.join(ret)\n",
    "\n",
    "s = \"I couldn't believe that I could actually understand what I was reading : the phenomenal power of the human mind .\"\n",
    "\n",
    "print(s)\n",
    "print(typoglycemia(s))"
   ]
  }
 ],
 "metadata": {
  "kernelspec": {
   "display_name": "Python 3",
   "language": "python",
   "name": "python3"
  },
  "language_info": {
   "codemirror_mode": {
    "name": "ipython",
    "version": 3
   },
   "file_extension": ".py",
   "mimetype": "text/x-python",
   "name": "python",
   "nbconvert_exporter": "python",
   "pygments_lexer": "ipython3",
   "version": "3.8.1"
  }
 },
 "nbformat": 4,
 "nbformat_minor": 4
}
