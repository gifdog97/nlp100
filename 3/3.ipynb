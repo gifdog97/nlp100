{
 "cells": [
  {
   "cell_type": "code",
   "execution_count": 1,
   "metadata": {},
   "outputs": [],
   "source": [
    "## 20\n",
    "\n",
    "import json\n",
    "\n",
    "with open(\"./jawiki-country.json\", 'r') as f:\n",
    "    for line in f:\n",
    "        json_data = json.loads(line)\n",
    "        if json_data['title'] == \"イギリス\":\n",
    "            uk_text = json_data['text']\n",
    "            break\n"
   ]
  },
  {
   "cell_type": "code",
   "execution_count": 2,
   "metadata": {},
   "outputs": [
    {
     "name": "stdout",
     "output_type": "stream",
     "text": [
      "[[Category:イギリス|*]]\n",
      "[[Category:英連邦王国|*]]\n",
      "[[Category:G8加盟国]]\n",
      "[[Category:欧州連合加盟国]]\n",
      "[[Category:海洋国家]]\n",
      "[[Category:君主国]]\n",
      "[[Category:島国|くれいとふりてん]]\n",
      "[[Category:1801年に設立された州・地域]]\n"
     ]
    }
   ],
   "source": [
    "## 21\n",
    "\n",
    "### note\n",
    "\n",
    "# 正規表現では特殊な形式を表現するために \\ を使うが、これはエスケープ文字と衝突する（\\n, \\t, ...）\n",
    "# そこで、文字列を raw string で表現する: r\"hoge\"\n",
    "\n",
    "# . は改行以外の文字列に一致。そのため、各行ごとにパターンが現れる場合にはこのような表記で良い。\n",
    "# 逆に各行に何度もこのパターンが現れる時は、ネストの関係で余計なものが取れてしまう恐れがある\n",
    "\n",
    "import re\n",
    "\n",
    "category_pat = re.compile(r\"^\\[\\[Category:.*\\]\\]$\", re.MULTILINE)\n",
    "\n",
    "cate_result = category_pat.findall(uk_text)\n",
    "\n",
    "for cate in cate_result:\n",
    "    print(cate)\n"
   ]
  },
  {
   "cell_type": "code",
   "execution_count": 3,
   "metadata": {
    "scrolled": true
   },
   "outputs": [
    {
     "name": "stdout",
     "output_type": "stream",
     "text": [
      "イギリス\n",
      "英連邦王国\n",
      "G8加盟国\n",
      "欧州連合加盟国\n",
      "海洋国家\n",
      "君主国\n",
      "島国\n",
      "1801年に設立された州・地域\n"
     ]
    }
   ],
   "source": [
    "## 22\n",
    "\n",
    "cate_name_pat = re.compile(r\"\\[\\[Category:(.*)\\]\\]\")\n",
    "bar_pat = re.compile(r\"(.*)\\|.*\")\n",
    "\n",
    "name_result = []\n",
    "\n",
    "for cate in cate_result:\n",
    "    cat_name = cate_name_pat.search(cate).group(1)\n",
    "    match_former = bar_pat.search(cat_name)\n",
    "    if match_former:\n",
    "        name_result.append(match_former.group(1))\n",
    "    else:\n",
    "        name_result.append(cat_name)\n",
    "\n",
    "for name in name_result:\n",
    "    print(name)"
   ]
  },
  {
   "cell_type": "code",
   "execution_count": 4,
   "metadata": {},
   "outputs": [
    {
     "name": "stdout",
     "output_type": "stream",
     "text": [
      "2 国名\n",
      "2 歴史\n",
      "2 地理\n",
      "  3 気候\n",
      "2 政治\n",
      "2 外交と軍事\n",
      "2 地方行政区分\n",
      "  3 主要都市\n",
      "2 科学技術\n",
      "2 経済\n",
      "  3 鉱業\n",
      "  3 農業\n",
      "  3 貿易\n",
      "  3 通貨\n",
      "  3 企業\n",
      "2 交通\n",
      "  3 道路\n",
      "  3 鉄道\n",
      "  3 海運\n",
      "  3 航空\n",
      "2 通信\n",
      "2 国民\n",
      "  3 言語\n",
      "  3 宗教\n",
      "  3  婚姻 \n",
      "  3 教育\n",
      "2 文化\n",
      "  3 食文化\n",
      "  3 文学\n",
      "  3  哲学 \n",
      "  3 音楽\n",
      "    4 イギリスのポピュラー音楽\n",
      "  3 映画\n",
      "  3 コメディ\n",
      "  3 国花\n",
      "  3 世界遺産\n",
      "  3 祝祭日\n",
      "2 スポーツ\n",
      "  3 サッカー\n",
      "  3 競馬\n",
      "  3 モータースポーツ\n",
      "2 脚注\n",
      "2 関連項目\n",
      "2 外部リンク\n"
     ]
    }
   ],
   "source": [
    "## 23\n",
    "\n",
    "# MULTILINE によって行ごとに処理 -> ^$必須\n",
    "# グループを複数用意して findall すると結果がタプルになる\n",
    "\n",
    "sec_pat = re.compile(r\"^(={2,})(.+)\\1$\", re.MULTILINE)\n",
    "sec_result = sec_pat.findall(uk_text)\n",
    "\n",
    "for level, sec_name in sec_result:\n",
    "    print(\"{indent}{level} {name}\".format(indent='  '*(len(level)-2), level=len(level), name=sec_name))"
   ]
  },
  {
   "cell_type": "code",
   "execution_count": 5,
   "metadata": {},
   "outputs": [
    {
     "name": "stdout",
     "output_type": "stream",
     "text": [
      "Royal Coat of Arms of the United Kingdom.svg\n",
      "Battle of Waterloo 1815.PNG\n",
      "The British Empire.png\n",
      "Uk topo en.jpg\n",
      "BenNevis2005.jpg\n",
      "Elizabeth II greets NASA GSFC employees, May 8, 2007 edit.jpg\n",
      "Palace of Westminster, London - Feb 2007.jpg\n",
      "David Cameron and Barack Obama at the G20 Summit in Toronto.jpg\n",
      "Soldiers Trooping the Colour, 16th June 2007.jpg\n",
      "Scotland Parliament Holyrood.jpg\n",
      "London.bankofengland.arp.jpg\n",
      "City of London skyline from London City Hall - Oct 2008.jpg\n",
      "Oil platform in the North SeaPros.jpg\n",
      "Eurostar at St Pancras Jan 2008.jpg\n",
      "Heathrow T5.jpg\n",
      "Anglospeak.svg\n",
      "CHANDOS3.jpg\n",
      "The Fabs.JPG\n",
      "Wembley Stadium, illuminated.jpg\n"
     ]
    }
   ],
   "source": [
    "## 24\n",
    "\n",
    "# 早見表に従い、[[]]で囲まれたもののみ抽出（囲われていないケースもあるが今回は無視）\n",
    "\n",
    "file_pat = re.compile(r\"\\[\\[(?:File|ファイル):(.*)\\]\\]\", re.MULTILINE)\n",
    "bar_pat = re.compile(r\"(.*?)\\|.*\")\n",
    "\n",
    "file_result = file_pat.findall(uk_text)\n",
    "\n",
    "file_name_result = []\n",
    "\n",
    "for file in file_result:\n",
    "    match_former = bar_pat.search(file)\n",
    "    if match_former:\n",
    "        file_name_result.append(match_former.group(1))\n",
    "    else:\n",
    "        file_name_result.append(file)\n",
    "\n",
    "for file_name in file_name_result:\n",
    "    print(file_name)"
   ]
  },
  {
   "cell_type": "code",
   "execution_count": 33,
   "metadata": {},
   "outputs": [
    {
     "name": "stdout",
     "output_type": "stream",
     "text": [
      "{'略名': 'イギリス', '日本語国名': 'グレートブリテン及び北アイルランド連合王国', '公式国名': '{{lang|en|United Kingdom of Great Britain and Northern Ireland}}<ref>英語以外での正式国名:<br/>', '国旗画像': 'Flag of the United Kingdom.svg', '国章画像': '[[ファイル:Royal Coat of Arms of the United Kingdom.svg|85px|イギリスの国章]]', '国章リンク': '（[[イギリスの国章|国章]]）', '標語': '{{lang|fr|Dieu et mon droit}}<br/>（[[フランス語]]:神と私の権利）', '国歌': '[[女王陛下万歳|神よ女王陛下を守り給え]]', '位置画像': 'Location_UK_EU_Europe_001.svg', '公用語': '[[英語]]（事実上）', '首都': '[[ロンドン]]', '最大都市': 'ロンドン', '元首等肩書': '[[イギリスの君主|女王]]', '元首等氏名': '[[エリザベス2世]]', '首相等肩書': '[[イギリスの首相|首相]]', '首相等氏名': '[[デーヴィッド・キャメロン]]', '面積順位': '76', '面積大きさ': '1 E11', '面積値': '244,820', '水面積率': '1.3%', '人口統計年': '2011', '人口順位': '22', '人口大きさ': '1 E7', '人口値': '63,181,775<ref>[http://esa.un.org/unpd/wpp/Excel-Data/population.htm United Nations Department of Economic and Social Affairs>Population Division>Data>Population>Total Population]</ref>', '人口密度値': '246', 'GDP統計年元': '2012', 'GDP値元': '1兆5478億<ref name=\"imf-statistics-gdp\">[http://www.imf.org/external/pubs/ft/weo/2012/02/weodata/weorept.aspx?pr.x=70&pr.y=13&sy=2010&ey=2012&scsm=1&ssd=1&sort=country&ds=.&br=1&c=112&s=NGDP%2CNGDPD%2CPPPGDP%2CPPPPC&grp=0&a= IMF>Data and Statistics>World Economic Outlook Databases>By Countrise>United Kingdom]</ref>', 'GDP統計年MER': '2012', 'GDP順位MER': '5', 'GDP値MER': '2兆4337億<ref name=\"imf-statistics-gdp\" />', 'GDP統計年': '2012', 'GDP順位': '6', 'GDP値': '2兆3162億<ref name=\"imf-statistics-gdp\" />', 'GDP/人': '36,727<ref name=\"imf-statistics-gdp\" />', '建国形態': '建国', '確立形態1': '[[イングランド王国]]／[[スコットランド王国]]<br />（両国とも[[連合法 (1707年)|1707年連合法]]まで）', '確立年月日1': '[[927年]]／[[843年]]', '確立形態2': '[[グレートブリテン王国]]建国<br />（[[連合法 (1707年)|1707年連合法]]）', '確立年月日2': '[[1707年]]', '確立形態3': '[[グレートブリテン及びアイルランド連合王国]]建国<br />（[[連合法 (1800年)|1800年連合法]]）', '確立年月日3': '[[1801年]]', '確立形態4': \"現在の国号「'''グレートブリテン及び北アイルランド連合王国'''」に変更\", '確立年月日4': '[[1927年]]', '通貨': '[[スターリング・ポンド|UKポンド]] (&pound;)', '通貨コード': 'GBP', '時間帯': '±0', '夏時間': '+1', 'ISO 3166-1': 'GB / GBR', 'ccTLD': '[[.uk]] / [[.gb]]<ref>使用は.ukに比べ圧倒的少数。</ref>', '国際電話番号': '44', '注記': '<references />'}\n"
     ]
    }
   ],
   "source": [
    "## 25\n",
    "\n",
    "kiso_pat = re.compile(r\"\"\"\n",
    "    ^\\{\\{基礎情報 .*?$\n",
    "    (.*?)\n",
    "    ^\\}\\}$\n",
    "    \"\"\", re.MULTILINE + re.VERBOSE + re.DOTALL)\n",
    "\n",
    "kiso_map_pat = re.compile(r\"\\|(.*)\\s=\\s(.*)\")\n",
    "\n",
    "kiso_text = kiso_pat.search(uk_text).group(1)\n",
    "# kiso_text = kiso_pat.search(\"{{基礎情報 おれ=お前}}\").group(1)\n",
    "\n",
    "kiso_match_list = kiso_map_pat.findall(kiso_text)\n",
    "\n",
    "kiso_dict = {}\n",
    "for field, value in kiso_match_list:\n",
    "    kiso_dict[field] = value\n",
    "\n",
    "print(kiso_dict)"
   ]
  },
  {
   "cell_type": "code",
   "execution_count": 59,
   "metadata": {},
   "outputs": [
    {
     "name": "stdout",
     "output_type": "stream",
     "text": [
      "{'略名': 'イギリス', '日本語国名': 'グレートブリテン及び北アイルランド連合王国', '公式国名': '{{lang|en|United Kingdom of Great Britain and Northern Ireland}}<ref>英語以外での正式国名:<br/>', '国旗画像': 'Flag of the United Kingdom.svg', '国章画像': '[[ファイル:Royal Coat of Arms of the United Kingdom.svg|85px|イギリスの国章]]', '国章リンク': '（[[イギリスの国章|国章]]）', '標語': '{{lang|fr|Dieu et mon droit}}<br/>（[[フランス語]]:神と私の権利）', '国歌': '[[女王陛下万歳|神よ女王陛下を守り給え]]', '位置画像': 'Location_UK_EU_Europe_001.svg', '公用語': '[[英語]]（事実上）', '首都': '[[ロンドン]]', '最大都市': 'ロンドン', '元首等肩書': '[[イギリスの君主|女王]]', '元首等氏名': '[[エリザベス2世]]', '首相等肩書': '[[イギリスの首相|首相]]', '首相等氏名': '[[デーヴィッド・キャメロン]]', '面積順位': '76', '面積大きさ': '1 E11', '面積値': '244,820', '水面積率': '1.3%', '人口統計年': '2011', '人口順位': '22', '人口大きさ': '1 E7', '人口値': '63,181,775<ref>[http://esa.un.org/unpd/wpp/Excel-Data/population.htm United Nations Department of Economic and Social Affairs>Population Division>Data>Population>Total Population]</ref>', '人口密度値': '246', 'GDP統計年元': '2012', 'GDP値元': '1兆5478億<ref name=\"imf-statistics-gdp\">[http://www.imf.org/external/pubs/ft/weo/2012/02/weodata/weorept.aspx?pr.x=70&pr.y=13&sy=2010&ey=2012&scsm=1&ssd=1&sort=country&ds=.&br=1&c=112&s=NGDP%2CNGDPD%2CPPPGDP%2CPPPPC&grp=0&a= IMF>Data and Statistics>World Economic Outlook Databases>By Countrise>United Kingdom]</ref>', 'GDP統計年MER': '2012', 'GDP順位MER': '5', 'GDP値MER': '2兆4337億<ref name=\"imf-statistics-gdp\" />', 'GDP統計年': '2012', 'GDP順位': '6', 'GDP値': '2兆3162億<ref name=\"imf-statistics-gdp\" />', 'GDP/人': '36,727<ref name=\"imf-statistics-gdp\" />', '建国形態': '建国', '確立形態1': '[[イングランド王国]]／[[スコットランド王国]]<br />（両国とも[[連合法 (1707年)|1707年連合法]]まで）', '確立年月日1': '[[927年]]／[[843年]]', '確立形態2': '[[グレートブリテン王国]]建国<br />（[[連合法 (1707年)|1707年連合法]]）', '確立年月日2': '[[1707年]]', '確立形態3': '[[グレートブリテン及びアイルランド連合王国]]建国<br />（[[連合法 (1800年)|1800年連合法]]）', '確立年月日3': '[[1801年]]', '確立形態4': '現在の国号「グレートブリテン及び北アイルランド連合王国」に変更', '確立年月日4': '[[1927年]]', '通貨': '[[スターリング・ポンド|UKポンド]] (&pound;)', '通貨コード': 'GBP', '時間帯': '±0', '夏時間': '+1', 'ISO 3166-1': 'GB / GBR', 'ccTLD': '[[.uk]] / [[.gb]]<ref>使用は.ukに比べ圧倒的少数。</ref>', '国際電話番号': '44', '注記': '<references />'}\n"
     ]
    }
   ],
   "source": [
    "## 26\n",
    "\n",
    "enhance_pat = re.compile(r\"(?:''''')|(?:''')|(?:'')\", re.MULTILINE)\n",
    "\n",
    "# コピーの関係か、valueを変えるとそのままdictに反映される\n",
    "for field, value in kiso_dict.items():\n",
    "    enhance_pat.sub('', value)\n",
    "\n",
    "print(kiso_dict)"
   ]
  },
  {
   "cell_type": "code",
   "execution_count": 106,
   "metadata": {
    "scrolled": true
   },
   "outputs": [
    {
     "name": "stdout",
     "output_type": "stream",
     "text": [
      "{'略名': 'イギリス', '日本語国名': 'グレートブリテン及び北アイルランド連合王国', '公式国名': '{{lang|en|United Kingdom of Great Britain and Northern Ireland}}<ref>英語以外での正式国名:<br/>', '国旗画像': 'Flag of the United Kingdom.svg', '国章画像': '[[ファイル:Royal Coat of Arms of the United Kingdom.svg|85px|イギリスの国章]]', '国章リンク': '（イギリスの国章|国章）', '標語': '{{lang|fr|Dieu et mon droit}}<br/>（フランス語:神と私の権利）', '国歌': '女王陛下万歳|神よ女王陛下を守り給え', '位置画像': 'Location_UK_EU_Europe_001.svg', '公用語': '英語（事実上）', '首都': 'ロンドン', '最大都市': 'ロンドン', '元首等肩書': 'イギリスの君主|女王', '元首等氏名': 'エリザベス2世', '首相等肩書': 'イギリスの首相|首相', '首相等氏名': 'デーヴィッド・キャメロン', '面積順位': '76', '面積大きさ': '1 E11', '面積値': '244,820', '水面積率': '1.3%', '人口統計年': '2011', '人口順位': '22', '人口大きさ': '1 E7', '人口値': '63,181,775<ref>[http://esa.un.org/unpd/wpp/Excel-Data/population.htm United Nations Department of Economic and Social Affairs>Population Division>Data>Population>Total Population]</ref>', '人口密度値': '246', 'GDP統計年元': '2012', 'GDP値元': '1兆5478億<ref name=\"imf-statistics-gdp\">[http://www.imf.org/external/pubs/ft/weo/2012/02/weodata/weorept.aspx?pr.x=70&pr.y=13&sy=2010&ey=2012&scsm=1&ssd=1&sort=country&ds=.&br=1&c=112&s=NGDP%2CNGDPD%2CPPPGDP%2CPPPPC&grp=0&a= IMF>Data and Statistics>World Economic Outlook Databases>By Countrise>United Kingdom]</ref>', 'GDP統計年MER': '2012', 'GDP順位MER': '5', 'GDP値MER': '2兆4337億<ref name=\"imf-statistics-gdp\" />', 'GDP統計年': '2012', 'GDP順位': '6', 'GDP値': '2兆3162億<ref name=\"imf-statistics-gdp\" />', 'GDP/人': '36,727<ref name=\"imf-statistics-gdp\" />', '建国形態': '建国', '確立形態1': 'イングランド王国／スコットランド王国<br />（両国とも連合法 (1707年)|1707年連合法まで）', '確立年月日1': '927年／843年', '確立形態2': 'グレートブリテン王国建国<br />（連合法 (1707年)|1707年連合法）', '確立年月日2': '1707年', '確立形態3': 'グレートブリテン及びアイルランド連合王国建国<br />（連合法 (1800年)|1800年連合法）', '確立年月日3': '1801年', '確立形態4': '現在の国号「グレートブリテン及び北アイルランド連合王国」に変更', '確立年月日4': '1927年', '通貨': 'スターリング・ポンド|UKポンド (&pound;)', '通貨コード': 'GBP', '時間帯': '±0', '夏時間': '+1', 'ISO 3166-1': 'GB / GBR', 'ccTLD': '.uk / .gb<ref>使用は.ukに比べ圧倒的少数。</ref>', '国際電話番号': '44', '注記': '<references />'}\n"
     ]
    }
   ],
   "source": [
    "## 27\n",
    "\n",
    "# (?! pattern) で、pattern を除く表現\n",
    "link_pat = re.compile(r\"\\[\\[(?!Category:|ファイル:|FILE:)(.*?)\\]\\]\")\n",
    "\n",
    "# 先に取り出して、取り出した内容について置換を行うという方針\n",
    "for field, value in kiso_dict.items():\n",
    "    link_list = link_pat.findall(value)\n",
    "    for link in link_list:\n",
    "        link_marked = \"[[\" + link + \"]]\"\n",
    "        value = value.replace(link_marked, link)\n",
    "        print(value)\n",
    "    kiso_dict[field] = value\n",
    "        \n",
    "print(kiso_dict)                "
   ]
  },
  {
   "cell_type": "code",
   "execution_count": 123,
   "metadata": {
    "scrolled": true
   },
   "outputs": [
    {
     "name": "stdout",
     "output_type": "stream",
     "text": [
      "{'略名': 'イギリス', '日本語国名': 'グレートブリテン及び北アイルランド連合王国', '公式国名': 'United Kingdom of Great Britain and Northern Ireland英語以外での正式国名:', '国旗画像': 'Flag of the United Kingdom.svg', '国章画像': 'Royal Coat of Arms of the United Kingdom.svg|85px|イギリスの国章', '国章リンク': '（イギリスの国章|国章）', '標語': 'Dieu et mon droit（フランス語:神と私の権利）', '国歌': '女王陛下万歳|神よ女王陛下を守り給え', '位置画像': 'Location_UK_EU_Europe_001.svg', '公用語': '英語（事実上）', '首都': 'ロンドン', '最大都市': 'ロンドン', '元首等肩書': 'イギリスの君主|女王', '元首等氏名': 'エリザベス2世', '首相等肩書': 'イギリスの首相|首相', '首相等氏名': 'デーヴィッド・キャメロン', '面積順位': '76', '面積大きさ': '1 E11', '面積値': '244,820', '水面積率': '1.3%', '人口統計年': '2011', '人口順位': '22', '人口大きさ': '1 E7', '人口値': '63,181,775', '人口密度値': '246', 'GDP統計年元': '2012', 'GDP値元': '1兆5478億', 'GDP統計年MER': '2012', 'GDP順位MER': '5', 'GDP値MER': '2兆4337億', 'GDP統計年': '2012', 'GDP順位': '6', 'GDP値': '2兆3162億', 'GDP/人': '36,727', '建国形態': '建国', '確立形態1': 'イングランド王国／スコットランド王国（両国とも連合法 (1707年)|1707年連合法まで）', '確立年月日1': '927年／843年', '確立形態2': 'グレートブリテン王国建国（連合法 (1707年)|1707年連合法）', '確立年月日2': '1707年', '確立形態3': 'グレートブリテン及びアイルランド連合王国建国（連合法 (1800年)|1800年連合法）', '確立年月日3': '1801年', '確立形態4': '現在の国号「グレートブリテン及び北アイルランド連合王国」に変更', '確立年月日4': '1927年', '通貨': 'スターリング・ポンド|UKポンド (&pound;)', '通貨コード': 'GBP', '時間帯': '±0', '夏時間': '+1', 'ISO 3166-1': 'GB / GBR', 'ccTLD': '.uk / .gb使用は.ukに比べ圧倒的少数。', '国際電話番号': '44', '注記': ''}\n"
     ]
    }
   ],
   "source": [
    "## 28\n",
    "\n",
    "lang_pat = re.compile(r\"\\{\\{lang\\|(.*)\\|(.*)\\}\\}\")\n",
    "file_pat = re.compile(r\"\\[\\[(File|ファイル):(.*)\\]\\]\")\n",
    "url_pat = re.compile(r\"\\[https?:\\/\\/.*\\]\")\n",
    "tag_pat = re.compile(r\"<.*?>\")\n",
    "\n",
    "for field, value in kiso_dict.items():\n",
    "    value = lang_pat.sub(r\"\\2\", value)\n",
    "    value = file_pat.sub(r\"\\2\", value)\n",
    "    value = url_pat.sub(\"\", value)\n",
    "    value = tag_pat.sub(\"\", value)\n",
    "    kiso_dict[field] = value\n",
    "    \n",
    "print(kiso_dict)"
   ]
  },
  {
   "cell_type": "code",
   "execution_count": 129,
   "metadata": {},
   "outputs": [
    {
     "ename": "ModuleNotFoundError",
     "evalue": "No module named 'requests'",
     "output_type": "error",
     "traceback": [
      "\u001b[0;31m---------------------------------------------------------------------------\u001b[0m",
      "\u001b[0;31mModuleNotFoundError\u001b[0m                       Traceback (most recent call last)",
      "\u001b[0;32m<ipython-input-129-43f07fe1cec9>\u001b[0m in \u001b[0;36m<module>\u001b[0;34m\u001b[0m\n\u001b[1;32m      1\u001b[0m \u001b[0;31m## 29\u001b[0m\u001b[0;34m\u001b[0m\u001b[0;34m\u001b[0m\u001b[0;34m\u001b[0m\u001b[0m\n\u001b[1;32m      2\u001b[0m \u001b[0;34m\u001b[0m\u001b[0m\n\u001b[0;32m----> 3\u001b[0;31m \u001b[0;32mimport\u001b[0m \u001b[0mrequests\u001b[0m\u001b[0;34m\u001b[0m\u001b[0;34m\u001b[0m\u001b[0m\n\u001b[0m\u001b[1;32m      4\u001b[0m \u001b[0;34m\u001b[0m\u001b[0m\n\u001b[1;32m      5\u001b[0m \u001b[0mS\u001b[0m \u001b[0;34m=\u001b[0m \u001b[0mrequests\u001b[0m\u001b[0;34m.\u001b[0m\u001b[0mSession\u001b[0m\u001b[0;34m(\u001b[0m\u001b[0;34m)\u001b[0m\u001b[0;34m\u001b[0m\u001b[0;34m\u001b[0m\u001b[0m\n",
      "\u001b[0;31mModuleNotFoundError\u001b[0m: No module named 'requests'"
     ]
    }
   ],
   "source": [
    "## 29\n",
    "\n",
    "import requests\n",
    "\n",
    "S = requests.Session()\n",
    "\n",
    "URL = \"https://www.mediawiki.org/w/api.php\"\n",
    "\n",
    "PARAMS = {\n",
    "    \"action\": \"query\",\n",
    "    \"format\": \"json\",\n",
    "    \"prop\": \"imageinfo\",\n",
    "    \"iiprop\": \"url\",\n",
    "    \"titles\": \"File:\" + image_file\n",
    "}\n",
    "\n",
    "R = S.get(url=URL, params=PARAMS)\n",
    "DATA = R.json()\n",
    "\n",
    "url = DATA['query']['pages'].popitem()[1]['imageinfo'][0]['url']"
   ]
  }
 ],
 "metadata": {
  "kernelspec": {
   "display_name": "Python 3",
   "language": "python",
   "name": "python3"
  },
  "language_info": {
   "codemirror_mode": {
    "name": "ipython",
    "version": 3
   },
   "file_extension": ".py",
   "mimetype": "text/x-python",
   "name": "python",
   "nbconvert_exporter": "python",
   "pygments_lexer": "ipython3",
   "version": "3.8.1"
  }
 },
 "nbformat": 4,
 "nbformat_minor": 4
}
