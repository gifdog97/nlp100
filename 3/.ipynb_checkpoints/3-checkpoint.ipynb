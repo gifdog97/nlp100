{
 "cells": [
  {
   "cell_type": "code",
   "execution_count": null,
   "metadata": {},
   "outputs": [],
   "source": [
    "## 20\n",
    "\n",
    "import json\n",
    "\n",
    "with open(\"./jawiki-country.json\", 'r') as f:\n",
    "    for line in f:\n",
    "        json_data = json.loads(line)\n",
    "        if json_data['title'] == \"イギリス\":\n",
    "            uk_text = json_data['text']\n",
    "            break"
   ]
  },
  {
   "cell_type": "code",
   "execution_count": null,
   "metadata": {},
   "outputs": [],
   "source": [
    "## 21\n",
    "\n",
    "### note\n",
    "\n",
    "# 正規表現では特殊な形式を表現するために \\ を使うが、これはエスケープ文字と衝突する（\\n, \\t, ...）\n",
    "# そこで、文字列を raw string で表現する: r\"hoge\"\n",
    "\n",
    "# . は改行以外の文字列に一致。そのため、各行ごとにパターンが現れる場合にはこのような表記で良い。\n",
    "# 逆に各行に何度もこのパターンが現れる時は、ネストの関係で余計なものが取れてしまう恐れがある\n",
    "\n",
    "import re\n",
    "\n",
    "category_pat = re.compile(r\"^\\[\\[Category:.*\\]\\]$\", re.MULTILINE)\n",
    "\n",
    "cate_result = category_pat.findall(uk_text)\n",
    "\n",
    "for cate in cate_result:\n",
    "    print(cate)\n"
   ]
  },
  {
   "cell_type": "code",
   "execution_count": null,
   "metadata": {
    "scrolled": true
   },
   "outputs": [],
   "source": [
    "## 22\n",
    "\n",
    "cate_name_pat = re.compile(r\"\\[\\[Category:(.*)\\]\\]\")\n",
    "bar_pat = re.compile(r\"(.*)\\|.*\")\n",
    "\n",
    "name_result = []\n",
    "\n",
    "for cate in cate_result:\n",
    "    cat_name = cate_name_pat.search(cate).group(1)\n",
    "    match_former = bar_pat.search(cat_name)\n",
    "    if match_former:\n",
    "        name_result.append(match_former.group(1))\n",
    "    else:\n",
    "        name_result.append(cat_name)\n",
    "\n",
    "for name in name_result:\n",
    "    print(name)"
   ]
  },
  {
   "cell_type": "code",
   "execution_count": null,
   "metadata": {},
   "outputs": [],
   "source": [
    "## 23\n",
    "\n",
    "# MULTILINE によって行ごとに処理 -> ^$必須\n",
    "# グループを複数用意して findall すると結果がタプルになる\n",
    "\n",
    "sec_pat = re.compile(r\"^(={2,})(.+)\\1$\", re.MULTILINE)\n",
    "sec_result = sec_pat.findall(uk_text)\n",
    "\n",
    "for level, sec_name in sec_result:\n",
    "    print(\"{indent}{level} {name}\".format(indent='  '*(len(level)-2), level=len(level), name=sec_name))"
   ]
  },
  {
   "cell_type": "code",
   "execution_count": null,
   "metadata": {},
   "outputs": [],
   "source": [
    "## 24\n",
    "\n",
    "# 早見表に従い、[[]]で囲まれたもののみ抽出（囲われていないケースもあるが今回は無視）\n",
    "\n",
    "file_pat = re.compile(r\"\\[\\[(?:File|ファイル):(.*)\\]\\]\", re.MULTILINE)\n",
    "bar_pat = re.compile(r\"(.*?)\\|.*\")\n",
    "\n",
    "file_result = file_pat.findall(uk_text)\n",
    "\n",
    "file_name_result = []\n",
    "\n",
    "for file in file_result:\n",
    "    match_former = bar_pat.search(file)\n",
    "    if match_former:\n",
    "        file_name_result.append(match_former.group(1))\n",
    "    else:\n",
    "        file_name_result.append(file)\n",
    "\n",
    "for file_name in file_name_result:\n",
    "    print(file_name)"
   ]
  },
  {
   "cell_type": "code",
   "execution_count": null,
   "metadata": {},
   "outputs": [],
   "source": [
    "## 25\n",
    "\n",
    "kiso_pat = re.compile(r\"\"\"\n",
    "    ^\\{\\{基礎情報 .*?$\n",
    "    (.*?)\n",
    "    ^\\}\\}$\n",
    "    \"\"\", re.MULTILINE + re.VERBOSE + re.DOTALL)\n",
    "\n",
    "kiso_map_pat = re.compile(r\"\\|(.*)\\s=\\s(.*)\")\n",
    "\n",
    "kiso_text = kiso_pat.search(uk_text).group(1)\n",
    "# kiso_text = kiso_pat.search(\"{{基礎情報 おれ=お前}}\").group(1)\n",
    "\n",
    "kiso_match_list = kiso_map_pat.findall(kiso_text)\n",
    "\n",
    "kiso_dict = {}\n",
    "for field, value in kiso_match_list:\n",
    "    kiso_dict[field] = value\n",
    "\n",
    "print(kiso_dict)"
   ]
  },
  {
   "cell_type": "code",
   "execution_count": null,
   "metadata": {},
   "outputs": [],
   "source": [
    "## 26\n",
    "\n",
    "enhance_pat = re.compile(r\"(?:''''')|(?:''')|(?:'')\", re.MULTILINE)\n",
    "\n",
    "# コピーの関係か、valueを変えるとそのままdictに反映される\n",
    "for field, value in kiso_dict.items():\n",
    "    enhance_pat.sub('', value)\n",
    "\n",
    "print(kiso_dict)"
   ]
  },
  {
   "cell_type": "code",
   "execution_count": null,
   "metadata": {
    "scrolled": true
   },
   "outputs": [],
   "source": [
    "## 27\n",
    "\n",
    "# (?! pattern) で、pattern を除く表現\n",
    "link_pat = re.compile(r\"\\[\\[(?!Category:|ファイル:|FILE:)(.*?)\\]\\]\")\n",
    "\n",
    "# 先に取り出して、取り出した内容について置換を行うという方針\n",
    "for field, value in kiso_dict.items():\n",
    "    link_list = link_pat.findall(value)\n",
    "    for link in link_list:\n",
    "        link_marked = \"[[\" + link + \"]]\"\n",
    "        value = value.replace(link_marked, link)\n",
    "        print(value)\n",
    "    kiso_dict[field] = value\n",
    "        \n",
    "print(kiso_dict)                "
   ]
  },
  {
   "cell_type": "code",
   "execution_count": null,
   "metadata": {
    "scrolled": true
   },
   "outputs": [],
   "source": [
    "## 28\n",
    "\n",
    "lang_pat = re.compile(r\"\\{\\{lang\\|(.*)\\|(.*)\\}\\}\")\n",
    "file_pat = re.compile(r\"\\[\\[(File|ファイル):(.*)\\]\\]\")\n",
    "url_pat = re.compile(r\"\\[https?:\\/\\/.*\\]\")\n",
    "tag_pat = re.compile(r\"<.*?>\")\n",
    "\n",
    "for field, value in kiso_dict.items():\n",
    "    value = lang_pat.sub(r\"\\2\", value)\n",
    "    value = file_pat.sub(r\"\\2\", value)\n",
    "    value = url_pat.sub(\"\", value)\n",
    "    value = tag_pat.sub(\"\", value)\n",
    "    kiso_dict[field] = value\n",
    "    \n",
    "print(kiso_dict)"
   ]
  },
  {
   "cell_type": "code",
   "execution_count": null,
   "metadata": {},
   "outputs": [],
   "source": [
    "## 29\n",
    "\n",
    "import requests\n",
    "\n",
    "image_file = kiso_dict[\"国旗画像\"]\n",
    "\n",
    "S = requests.Session()\n",
    "\n",
    "URL = \"https://www.mediawiki.org/w/api.php\"\n",
    "\n",
    "PARAMS = {\n",
    "    \"action\": \"query\",\n",
    "    \"format\": \"json\",\n",
    "    \"prop\": \"imageinfo\",\n",
    "    \"iiprop\": \"url\",\n",
    "    \"titles\": \"File:\" + image_file\n",
    "}\n",
    "\n",
    "R = S.get(url=URL, params=PARAMS)\n",
    "DATA = R.json()\n",
    "\n",
    "url = DATA['query']['pages'].popitem()[1]['imageinfo'][0]['url']\n",
    "print(url)"
   ]
  }
 ],
 "metadata": {
  "kernelspec": {
   "display_name": "Python 3",
   "language": "python",
   "name": "python3"
  },
  "language_info": {
   "codemirror_mode": {
    "name": "ipython",
    "version": 3
   },
   "file_extension": ".py",
   "mimetype": "text/x-python",
   "name": "python",
   "nbconvert_exporter": "python",
   "pygments_lexer": "ipython3",
   "version": "3.8.1"
  }
 },
 "nbformat": 4,
 "nbformat_minor": 4
}
